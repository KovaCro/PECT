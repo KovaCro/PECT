{
 "cells": [
  {
   "cell_type": "code",
   "execution_count": 5,
   "id": "ddb865ff",
   "metadata": {},
   "outputs": [],
   "source": [
    "import pandas as pd\n",
    "import numpy as np\n",
    "from pathlib import Path\n",
    "import sys\n",
    "sys.path.append('../')\n",
    "from pect import read_evaluation"
   ]
  },
  {
   "cell_type": "code",
   "execution_count": 6,
   "id": "2e86fe1c",
   "metadata": {},
   "outputs": [
    {
     "name": "stdout",
     "output_type": "stream",
     "text": [
      "[(2394, 2044, 4438), (2910, 2002, 4912), (2031, 2932, 4963), (2355, 2918, 5273), (1257, 1288, 2545), (1132, 1351, 2483), (1038, 1616, 2654), (743, 1661, 2404), (628, 2462, 3090), (1779, 2220, 3999), (3014, 3044, 6058), (2447, 2031, 4478), (1503, 3008, 4511), (831, 1450, 2281), (2577, 1965, 4542), (6474, 3495, 9969), (2589, 3177, 5766), (1533, 3342, 4875), (1913, 3336, 5249), (1017, 1316, 2333), (833, 1351, 2184), (1193, 1644, 2837), (1055, 1550, 2605), (2389, 2069, 4458)]\n"
     ]
    }
   ],
   "source": [
    "eval_dirs = list(Path('../solutions').iterdir())\n",
    "\n",
    "evals_dict = {}\n",
    "\n",
    "for path in eval_dirs:\n",
    "  solver = path.name\n",
    "  evals = [read_evaluation(p)[1:] for p in list(path.glob('*.eval'))]\n",
    "  evals_dict[solver] = evals\n",
    "print(evals)"
   ]
  },
  {
   "cell_type": "code",
   "execution_count": 7,
   "id": "8e7e3c3a",
   "metadata": {},
   "outputs": [
    {
     "name": "stdout",
     "output_type": "stream",
     "text": [
      "\\begin{tabular}{|c|c|c|c|c|c|}\n",
      "\\hline\n",
      "\\multicolumn{6}{|c|}{greedy} \\\\\n",
      "\\hline\n",
      "& Mean & Median & Min & Max & Std Dev \\\\\n",
      "\\hline\n",
      "distance & 1716.6 & 1661.0 & 671 & 5192 & 986.9 \\\\\n",
      "\\hline\n",
      "soft & 2306.4 & 2073.0 & 1393 & 3797 & 744.2 \\\\\n",
      "\\hline\n",
      "total & 4023.0 & 4108.0 & 2159 & 8989 & 1568.9 \\\\\n",
      "\\hline\n",
      "\\end{tabular}\n",
      "\\begin{tabular}{|c|c|c|c|c|c|}\n",
      "\\hline\n",
      "\\multicolumn{6}{|c|}{naive} \\\\\n",
      "\\hline\n",
      "& Mean & Median & Min & Max & Std Dev \\\\\n",
      "\\hline\n",
      "distance & 1901.5 & 1656.0 & 628 & 6474 & 1197.3 \\\\\n",
      "\\hline\n",
      "soft & 2219.7 & 2037.5 & 1288 & 3495 & 731.7 \\\\\n",
      "\\hline\n",
      "total & 4121.1 & 4448.0 & 2184 & 9969 & 1725.5 \\\\\n",
      "\\hline\n",
      "\\end{tabular}\n"
     ]
    }
   ],
   "source": [
    "for algorithm, values in evals_dict.items():\n",
    "    print('\\\\begin{tabular}{|c|c|c|c|c|c|}')\n",
    "    print('\\\\hline')\n",
    "    print('\\\\multicolumn{6}{|c|}{' + algorithm + '} \\\\\\\\')\n",
    "    print('\\\\hline')\n",
    "    print(f\"& Mean & Median & Min & Max & Std Dev \\\\\\\\\")\n",
    "    print('\\\\hline')\n",
    "    values_array = np.array(values)\n",
    "    for i, label in enumerate(['distance', 'soft', 'total']):\n",
    "        mean = np.mean(values_array[:, i])\n",
    "        median = np.median(values_array[:, i])\n",
    "        min = np.min(values_array[:, i])\n",
    "        max = np.max(values_array[:, i])\n",
    "        std_dev = np.std(values_array[:, i])\n",
    "        print(f\"{label} & {round(mean, 1)} & {round(median, 1)} & {round(min, 1)} & {round(max, 1)} & {round(std_dev, 1)} \\\\\\\\\")\n",
    "        print('\\\\hline')\n",
    "    print('\\\\end{tabular}')"
   ]
  }
 ],
 "metadata": {
  "kernelspec": {
   "display_name": "Python 3",
   "language": "python",
   "name": "python3"
  },
  "language_info": {
   "codemirror_mode": {
    "name": "ipython",
    "version": 3
   },
   "file_extension": ".py",
   "mimetype": "text/x-python",
   "name": "python",
   "nbconvert_exporter": "python",
   "pygments_lexer": "ipython3",
   "version": "3.13.3"
  }
 },
 "nbformat": 4,
 "nbformat_minor": 5
}
